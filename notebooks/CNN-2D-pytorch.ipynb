{
 "cells": [
  {
   "cell_type": "markdown",
   "metadata": {},
   "source": [
    "### Configuração do Ambiente\n",
    "\n",
    "Para configurar o ambiente necessário para este notebook, execute os seguintes comandos no terminal:\n",
    "\n",
    "```bash\n",
    "conda create -n pytorch_env python=3.9 matplotlib seaborn pandas scikit-plot scipy=1.11.4 -y\n",
    "conda activate pytorch_env\n",
    "pip install torch torchvision ipykernel\n",
    "python -m ipykernel install --user --name=pytorch_env --display-name \"Python (pytorch_env)\"\n",
    "```\n",
    "\n",
    "Após executar os comandos, selecione o kernel **Python (pytorch_env)** no menu **Kernel > Change Kernel** do Jupyter Notebook."
   ]
  },
  {
   "cell_type": "code",
   "execution_count": 1,
   "metadata": {},
   "outputs": [],
   "source": [
    "import pandas as pd\n",
    "import numpy as np\n",
    "import datetime\n",
    "\n",
    "timestamp = datetime.datetime.now().strftime(\"%Y%m%d%H%M%S\")\n",
    "\n",
    "# #definindo o path para executar no LOCAL\n",
    "path = \"/home/pedro/projetoDL/dataset/processado/\"\n",
    "log_path_tmp = \"/home/pedro/projetoDL/log/torch/\"\n",
    "# definindo o path para log com timestamp\n",
    "log_path = log_path_tmp + \"/exp_\" + timestamp + \"\""
   ]
  },
  {
   "cell_type": "code",
   "execution_count": 2,
   "metadata": {},
   "outputs": [
    {
     "name": "stdout",
     "output_type": "stream",
     "text": [
      "SciPy version: 1.11.4\n",
      "scikit-plot version: 0.3.7\n"
     ]
    }
   ],
   "source": [
    "import scipy\n",
    "print(f\"SciPy version: {scipy.__version__}\")\n",
    "\n",
    "import scikitplot as skplt\n",
    "print(f\"scikit-plot version: {skplt.__version__}\")"
   ]
  },
  {
   "cell_type": "code",
   "execution_count": 3,
   "metadata": {},
   "outputs": [
    {
     "name": "stdout",
     "output_type": "stream",
     "text": [
      "GPU está conectada\n",
      "Nome da GPU: NVIDIA GeForce RTX 4060\n"
     ]
    }
   ],
   "source": [
    "import torch\n",
    "\n",
    "if torch.cuda.is_available():\n",
    "    print(\"GPU está conectada\")\n",
    "    num_gpus = torch.cuda.device_count()\n",
    "    for i in range(num_gpus):\n",
    "        print(f\"Nome da GPU: {torch.cuda.get_device_name(i)}\")\n",
    "else:\n",
    "    print(\"Não conectado a uma GPU\")"
   ]
  },
  {
   "cell_type": "code",
   "execution_count": 4,
   "metadata": {},
   "outputs": [],
   "source": [
    "Y = np.load(path + 'Y_train_NewApproach_Injected_v2.npz')\n",
    "Y= Y.f.arr_0\n",
    "\n",
    "X = np.load(path + 'X_train_NewApproach_Injected_v2.npz')\n",
    "X = X.f.arr_0"
   ]
  },
  {
   "cell_type": "code",
   "execution_count": 5,
   "metadata": {},
   "outputs": [],
   "source": [
    "from sklearn.metrics import accuracy_score, recall_score, precision_score, f1_score, roc_auc_score, average_precision_score\n",
    "from scipy.stats import ks_2samp\n",
    "#import scikitplot as skplt\n",
    "import matplotlib.pyplot as plt\n",
    "from numpy import interp\n",
    "import os\n",
    "\n",
    "from scipy.stats import ks_2samp\n",
    "from sklearn.metrics import roc_curve, auc\n",
    "\n",
    "\n",
    "def extract_final_losses(history):\n",
    "    \"\"\"Função para extrair o melhor loss de treino e validação.\n",
    "\n",
    "    Argumento(s):\n",
    "    history -- Objeto retornado pela função fit do keras.\n",
    "\n",
    "    Retorno:\n",
    "    Dicionário contendo o melhor loss de treino e de validação baseado\n",
    "    no menor loss de validação.\n",
    "    \"\"\"\n",
    "    train_loss = history.history['loss']\n",
    "    val_loss = history.history['val_loss']\n",
    "    idx_min_val_loss = np.argmin(val_loss)\n",
    "    return {'train_loss': train_loss[idx_min_val_loss], 'val_loss': val_loss[idx_min_val_loss]}\n",
    "\n",
    "def plot_training_error_curves(history):\n",
    "    \"\"\"Função para plotar as curvas de erro do treinamento da rede neural.\n",
    "\n",
    "    Argumento(s):\n",
    "    history -- Objeto retornado pela função fit do keras.\n",
    "\n",
    "    Retorno:\n",
    "    A função gera o gráfico do treino da rede e retorna None.\n",
    "    \"\"\"\n",
    "    train_loss = history.history['loss']\n",
    "    val_loss = history.history['val_loss']\n",
    "\n",
    "    fig, ax = plt.subplots()\n",
    "    ax.plot(train_loss, label='Train')\n",
    "    ax.plot(val_loss, label='Validation')\n",
    "    ax.set(title='Training and Validation Error Curves', xlabel='Epochs', ylabel='Loss (MSE)')\n",
    "    ax.legend()\n",
    "    plt.show()\n",
    "\n",
    "def compute_performance_metrics(y, y_pred_class, y_pred_scores=None, save_path=None):\n",
    "    accuracy = accuracy_score(y, y_pred_class)\n",
    "    recall = recall_score(y, y_pred_class)\n",
    "    precision = precision_score(y, y_pred_class)\n",
    "    f1 = f1_score(y, y_pred_class)\n",
    "    performance_metrics = (accuracy, recall, precision, f1)\n",
    "    if y_pred_scores is not None:\n",
    "        skplt.metrics.plot_ks_statistic(y, y_pred_scores)\n",
    "        if save_path is not None:\n",
    "            plt.savefig(os.path.join(save_path, \"ks_plot.png\"))\n",
    "        y_pred_scores = y_pred_scores[:, 1]\n",
    "        auroc = roc_auc_score(y, y_pred_scores)\n",
    "        aupr = average_precision_score(y, y_pred_scores)\n",
    "        performance_metrics = performance_metrics + (auroc, aupr)\n",
    "    return performance_metrics\n",
    "\n",
    "def print_metrics_summary(accuracy, recall, precision, f1, auroc=None, aupr=None):\n",
    "    print()\n",
    "    print(\"{metric:<18}{value:.4f}\".format(metric=\"Accuracy:\", value=accuracy))\n",
    "    print(\"{metric:<18}{value:.4f}\".format(metric=\"Recall:\", value=recall))\n",
    "    print(\"{metric:<18}{value:.4f}\".format(metric=\"Precision:\", value=precision))\n",
    "    print(\"{metric:<18}{value:.4f}\".format(metric=\"F1:\", value=f1))\n",
    "    if auroc is not None:\n",
    "        print(\"{metric:<18}{value:.4f}\".format(metric=\"AUROC:\", value=auroc))\n",
    "    if aupr is not None:\n",
    "        print(\"{metric:<18}{value:.4f}\".format(metric=\"AUPR:\", value=aupr))"
   ]
  },
  {
   "cell_type": "code",
   "execution_count": 6,
   "metadata": {},
   "outputs": [
    {
     "data": {
      "text/plain": [
       "63"
      ]
     },
     "execution_count": 6,
     "metadata": {},
     "output_type": "execute_result"
    }
   ],
   "source": [
    "import gc\n",
    "\n",
    "# Garbage collector para liberar memória RAM.\n",
    "gc.collect()"
   ]
  },
  {
   "cell_type": "code",
   "execution_count": 7,
   "metadata": {},
   "outputs": [],
   "source": [
    "!export CUDA_LAUNCH_BLOCKING=1"
   ]
  },
  {
   "cell_type": "code",
   "execution_count": 8,
   "metadata": {},
   "outputs": [
    {
     "name": "stdout",
     "output_type": "stream",
     "text": [
      "Using device: cuda\n"
     ]
    }
   ],
   "source": [
    "import torch\n",
    "import torch.nn as nn\n",
    "import torch.optim as optim\n",
    "from torch.utils.data import DataLoader, TensorDataset\n",
    "from sklearn.model_selection import KFold\n",
    "from sklearn.metrics import confusion_matrix\n",
    "import numpy as np\n",
    "import os\n",
    "import datetime\n",
    "from tqdm import tqdm\n",
    "import gc\n",
    "\n",
    "# Configurações iniciais\n",
    "device = torch.device(\"cuda\" if torch.cuda.is_available() else \"cpu\")\n",
    "print(f\"Using device: {device}\")\n",
    "\n",
    "# Normalização dos dados\n",
    "def normalize_data(data):\n",
    "    return (data - data.mean()) / data.std()\n",
    "\n",
    "# Inicializando pesos (Xavier/Glorot)\n",
    "def init_weights(m):\n",
    "    if isinstance(m, nn.Conv2d) or isinstance(m, nn.Linear):\n",
    "        nn.init.xavier_uniform_(m.weight)\n",
    "        if m.bias is not None:\n",
    "            nn.init.zeros_(m.bias)\n",
    "\n",
    "# Definindo a rede neural\n",
    "class ConvNet(nn.Module):\n",
    "    def __init__(self):\n",
    "        super(ConvNet, self).__init__()\n",
    "        self.conv1 = nn.Conv2d(1, 32, kernel_size=5, stride=1, padding=2)\n",
    "        #self.bn1 = nn.BatchNorm2d(32)\n",
    "        self.bn1 = nn.Identity()\n",
    "        self.pool1 = nn.MaxPool2d(kernel_size=2)\n",
    "        self.conv2 = nn.Conv2d(32, 64, kernel_size=5, stride=1, padding=2)\n",
    "        #self.bn2 = nn.BatchNorm2d(64)\n",
    "        self.bn2 = nn.Identity()\n",
    "        self.pool2 = nn.MaxPool2d(kernel_size=2)\n",
    "        self.flatten = nn.Flatten()\n",
    "        self.dropout1 = nn.Dropout(0.3)\n",
    "        self.fc1 = nn.Linear(64 * 11 * 29, 64)  # Dimensão calculada\n",
    "        self.dropout2 = nn.Dropout(0.3)\n",
    "        self.fc2 = nn.Linear(64, 1)\n",
    "\n",
    "    def forward(self, x):\n",
    "        x = self.pool1(self.bn1(torch.relu(self.conv1(x))))\n",
    "        x = self.pool2(self.bn2(torch.relu(self.conv2(x))))\n",
    "        x = self.flatten(x)\n",
    "        x = self.dropout1(torch.relu(self.fc1(x)))\n",
    "        x = self.dropout2(self.fc2(x))  # Sem sigmoid explícito\n",
    "        return x\n",
    "\n",
    "# EarlyStopping\n",
    "class EarlyStopping:\n",
    "    def __init__(self, patience=10, min_delta=0):\n",
    "        self.patience = patience\n",
    "        self.min_delta = min_delta\n",
    "        self.counter = 0\n",
    "        self.best_loss = None\n",
    "        self.early_stop = False\n",
    "\n",
    "    def __call__(self, val_loss):\n",
    "        if self.best_loss is None or val_loss < self.best_loss - self.min_delta:\n",
    "            self.best_loss = val_loss\n",
    "            self.counter = 0\n",
    "        else:\n",
    "            self.counter += 1\n",
    "            if self.counter >= self.patience:\n",
    "                self.early_stop = True\n",
    "\n",
    "# Função para calcular métricas\n",
    "def compute_metrics(y_true, y_pred):\n",
    "    cm = confusion_matrix(y_true, y_pred)\n",
    "    accuracy = np.sum(np.diag(cm)) / np.sum(cm)\n",
    "    return accuracy"
   ]
  },
  {
   "cell_type": "code",
   "execution_count": 9,
   "metadata": {},
   "outputs": [
    {
     "name": "stdout",
     "output_type": "stream",
     "text": [
      "=== Starting Fold 1 ===\n"
     ]
    },
    {
     "name": "stderr",
     "output_type": "stream",
     "text": [
      "/home/pedro/miniconda3/envs/pytorch_env/lib/python3.9/site-packages/torch/optim/lr_scheduler.py:62: UserWarning: The verbose parameter is deprecated. Please use get_last_lr() to access the learning rate.\n",
      "  warnings.warn(\n",
      "Epoch 1/30 [Train]: 100%|██████████| 2011/2011 [00:44<00:00, 44.83it/s, loss=0.249, lr=0.001]\n",
      "Epoch 1/30 [Val]: 100%|██████████| 503/503 [00:04<00:00, 103.30it/s]\n"
     ]
    },
    {
     "name": "stdout",
     "output_type": "stream",
     "text": [
      "Epoch 1/30 - Train Loss: 0.2831 - Val Loss: 0.0412 - Train Acc: 0.7593 - Val Acc: 0.9914 - LR: 0.001000 - Time: 49.74s\n"
     ]
    },
    {
     "name": "stderr",
     "output_type": "stream",
     "text": [
      "Epoch 2/30 [Train]: 100%|██████████| 2011/2011 [00:42<00:00, 47.09it/s, loss=0.225, lr=0.001]\n",
      "Epoch 2/30 [Val]: 100%|██████████| 503/503 [00:04<00:00, 111.19it/s]\n"
     ]
    },
    {
     "name": "stdout",
     "output_type": "stream",
     "text": [
      "Epoch 2/30 - Train Loss: 0.2281 - Val Loss: 0.0304 - Train Acc: 0.7723 - Val Acc: 0.9958 - LR: 0.001000 - Time: 47.24s\n"
     ]
    },
    {
     "name": "stderr",
     "output_type": "stream",
     "text": [
      "Epoch 3/30 [Train]: 100%|██████████| 2011/2011 [00:41<00:00, 48.58it/s, loss=0.267, lr=0.001]\n",
      "Epoch 3/30 [Val]: 100%|██████████| 503/503 [00:04<00:00, 111.04it/s]\n"
     ]
    },
    {
     "name": "stdout",
     "output_type": "stream",
     "text": [
      "Epoch 3/30 - Train Loss: 0.2268 - Val Loss: 0.0298 - Train Acc: 0.7740 - Val Acc: 0.9952 - LR: 0.001000 - Time: 45.94s\n"
     ]
    },
    {
     "name": "stderr",
     "output_type": "stream",
     "text": [
      "Epoch 4/30 [Train]: 100%|██████████| 2011/2011 [00:41<00:00, 48.54it/s, loss=0.218, lr=0.001]\n",
      "Epoch 4/30 [Val]: 100%|██████████| 503/503 [00:04<00:00, 111.12it/s]\n"
     ]
    },
    {
     "name": "stdout",
     "output_type": "stream",
     "text": [
      "Epoch 4/30 - Train Loss: 0.2239 - Val Loss: 0.0266 - Train Acc: 0.7747 - Val Acc: 0.9944 - LR: 0.001000 - Time: 45.96s\n"
     ]
    },
    {
     "name": "stderr",
     "output_type": "stream",
     "text": [
      "Epoch 5/30 [Train]: 100%|██████████| 2011/2011 [00:41<00:00, 48.48it/s, loss=0.268, lr=0.001]\n",
      "Epoch 5/30 [Val]: 100%|██████████| 503/503 [00:04<00:00, 110.88it/s]\n"
     ]
    },
    {
     "name": "stdout",
     "output_type": "stream",
     "text": [
      "Epoch 5/30 - Train Loss: 0.2231 - Val Loss: 0.0329 - Train Acc: 0.7745 - Val Acc: 0.9953 - LR: 0.001000 - Time: 46.03s\n"
     ]
    },
    {
     "name": "stderr",
     "output_type": "stream",
     "text": [
      "Epoch 6/30 [Train]: 100%|██████████| 2011/2011 [00:41<00:00, 48.37it/s, loss=0.285, lr=0.001]\n",
      "Epoch 6/30 [Val]: 100%|██████████| 503/503 [00:04<00:00, 108.74it/s]\n"
     ]
    },
    {
     "name": "stdout",
     "output_type": "stream",
     "text": [
      "Epoch 6/30 - Train Loss: 0.2220 - Val Loss: 0.0310 - Train Acc: 0.7758 - Val Acc: 0.9966 - LR: 0.001000 - Time: 46.21s\n"
     ]
    },
    {
     "name": "stderr",
     "output_type": "stream",
     "text": [
      "Epoch 7/30 [Train]: 100%|██████████| 2011/2011 [00:41<00:00, 48.28it/s, loss=0.231, lr=0.001]\n",
      "Epoch 7/30 [Val]: 100%|██████████| 503/503 [00:04<00:00, 108.64it/s]\n"
     ]
    },
    {
     "name": "stdout",
     "output_type": "stream",
     "text": [
      "Epoch 7/30 - Train Loss: 0.2224 - Val Loss: 0.0303 - Train Acc: 0.7753 - Val Acc: 0.9959 - LR: 0.001000 - Time: 46.29s\n"
     ]
    },
    {
     "name": "stderr",
     "output_type": "stream",
     "text": [
      "Epoch 8/30 [Train]: 100%|██████████| 2011/2011 [00:41<00:00, 48.55it/s, loss=0.258, lr=0.001]\n",
      "Epoch 8/30 [Val]: 100%|██████████| 503/503 [00:04<00:00, 120.53it/s]\n"
     ]
    },
    {
     "name": "stdout",
     "output_type": "stream",
     "text": [
      "Epoch 8/30 - Train Loss: 0.2228 - Val Loss: 0.0270 - Train Acc: 0.7745 - Val Acc: 0.9953 - LR: 0.001000 - Time: 45.61s\n"
     ]
    },
    {
     "name": "stderr",
     "output_type": "stream",
     "text": [
      "Epoch 9/30 [Train]: 100%|██████████| 2011/2011 [00:38<00:00, 52.72it/s, loss=0.133, lr=0.0005]\n",
      "Epoch 9/30 [Val]: 100%|██████████| 503/503 [00:04<00:00, 119.99it/s]\n"
     ]
    },
    {
     "name": "stdout",
     "output_type": "stream",
     "text": [
      "Epoch 9/30 - Train Loss: 0.2206 - Val Loss: 0.0273 - Train Acc: 0.7763 - Val Acc: 0.9954 - LR: 0.000500 - Time: 42.35s\n"
     ]
    },
    {
     "name": "stderr",
     "output_type": "stream",
     "text": [
      "Epoch 10/30 [Train]: 100%|██████████| 2011/2011 [00:38<00:00, 52.76it/s, loss=0.199, lr=0.0005]\n",
      "Epoch 10/30 [Val]: 100%|██████████| 503/503 [00:04<00:00, 119.41it/s]\n"
     ]
    },
    {
     "name": "stdout",
     "output_type": "stream",
     "text": [
      "Epoch 10/30 - Train Loss: 0.2216 - Val Loss: 0.0302 - Train Acc: 0.7748 - Val Acc: 0.9960 - LR: 0.000500 - Time: 42.34s\n"
     ]
    },
    {
     "name": "stderr",
     "output_type": "stream",
     "text": [
      "Epoch 11/30 [Train]: 100%|██████████| 2011/2011 [00:38<00:00, 52.71it/s, loss=0.203, lr=0.0005]\n",
      "Epoch 11/30 [Val]: 100%|██████████| 503/503 [00:04<00:00, 119.88it/s]\n"
     ]
    },
    {
     "name": "stdout",
     "output_type": "stream",
     "text": [
      "Epoch 11/30 - Train Loss: 0.2218 - Val Loss: 0.0263 - Train Acc: 0.7748 - Val Acc: 0.9953 - LR: 0.000500 - Time: 42.36s\n"
     ]
    },
    {
     "name": "stderr",
     "output_type": "stream",
     "text": [
      "Epoch 12/30 [Train]: 100%|██████████| 2011/2011 [00:38<00:00, 52.65it/s, loss=0.182, lr=0.0005]\n",
      "Epoch 12/30 [Val]: 100%|██████████| 503/503 [00:04<00:00, 119.43it/s]\n"
     ]
    },
    {
     "name": "stdout",
     "output_type": "stream",
     "text": [
      "Epoch 12/30 - Train Loss: 0.2218 - Val Loss: 0.0253 - Train Acc: 0.7750 - Val Acc: 0.9955 - LR: 0.000500 - Time: 42.42s\n"
     ]
    },
    {
     "name": "stderr",
     "output_type": "stream",
     "text": [
      "Epoch 13/30 [Train]: 100%|██████████| 2011/2011 [00:38<00:00, 52.71it/s, loss=0.252, lr=0.0005]\n",
      "Epoch 13/30 [Val]: 100%|██████████| 503/503 [00:04<00:00, 120.89it/s]\n"
     ]
    },
    {
     "name": "stdout",
     "output_type": "stream",
     "text": [
      "Epoch 13/30 - Train Loss: 0.2205 - Val Loss: 0.0270 - Train Acc: 0.7765 - Val Acc: 0.9959 - LR: 0.000500 - Time: 42.32s\n"
     ]
    },
    {
     "name": "stderr",
     "output_type": "stream",
     "text": [
      "Epoch 14/30 [Train]: 100%|██████████| 2011/2011 [00:38<00:00, 52.81it/s, loss=0.202, lr=0.0005]\n",
      "Epoch 14/30 [Val]: 100%|██████████| 503/503 [00:04<00:00, 117.52it/s]\n"
     ]
    },
    {
     "name": "stdout",
     "output_type": "stream",
     "text": [
      "Epoch 14/30 - Train Loss: 0.2216 - Val Loss: 0.0250 - Train Acc: 0.7750 - Val Acc: 0.9960 - LR: 0.000500 - Time: 42.37s\n"
     ]
    },
    {
     "name": "stderr",
     "output_type": "stream",
     "text": [
      "Epoch 15/30 [Train]: 100%|██████████| 2011/2011 [00:38<00:00, 52.72it/s, loss=0.267, lr=0.0005]\n",
      "Epoch 15/30 [Val]: 100%|██████████| 503/503 [00:04<00:00, 119.42it/s]\n"
     ]
    },
    {
     "name": "stdout",
     "output_type": "stream",
     "text": [
      "Epoch 15/30 - Train Loss: 0.2212 - Val Loss: 0.0265 - Train Acc: 0.7755 - Val Acc: 0.9962 - LR: 0.000500 - Time: 42.37s\n"
     ]
    },
    {
     "name": "stderr",
     "output_type": "stream",
     "text": [
      "Epoch 16/30 [Train]: 100%|██████████| 2011/2011 [00:38<00:00, 52.64it/s, loss=0.249, lr=0.0005]\n",
      "Epoch 16/30 [Val]: 100%|██████████| 503/503 [00:04<00:00, 120.54it/s]\n"
     ]
    },
    {
     "name": "stdout",
     "output_type": "stream",
     "text": [
      "Epoch 16/30 - Train Loss: 0.2212 - Val Loss: 0.0324 - Train Acc: 0.7757 - Val Acc: 0.9968 - LR: 0.000500 - Time: 42.38s\n"
     ]
    },
    {
     "name": "stderr",
     "output_type": "stream",
     "text": [
      "Epoch 17/30 [Train]: 100%|██████████| 2011/2011 [00:38<00:00, 52.74it/s, loss=0.282, lr=0.0005]\n",
      "Epoch 17/30 [Val]: 100%|██████████| 503/503 [00:04<00:00, 120.12it/s]\n"
     ]
    },
    {
     "name": "stdout",
     "output_type": "stream",
     "text": [
      "Epoch 17/30 - Train Loss: 0.2212 - Val Loss: 0.0266 - Train Acc: 0.7752 - Val Acc: 0.9960 - LR: 0.000500 - Time: 42.33s\n"
     ]
    },
    {
     "name": "stderr",
     "output_type": "stream",
     "text": [
      "Epoch 18/30 [Train]: 100%|██████████| 2011/2011 [00:38<00:00, 52.62it/s, loss=0.21, lr=0.0005] \n",
      "Epoch 18/30 [Val]: 100%|██████████| 503/503 [00:04<00:00, 120.18it/s]\n"
     ]
    },
    {
     "name": "stdout",
     "output_type": "stream",
     "text": [
      "Epoch 18/30 - Train Loss: 0.2216 - Val Loss: 0.0312 - Train Acc: 0.7751 - Val Acc: 0.9962 - LR: 0.000500 - Time: 42.42s\n"
     ]
    },
    {
     "name": "stderr",
     "output_type": "stream",
     "text": [
      "Epoch 19/30 [Train]: 100%|██████████| 2011/2011 [00:38<00:00, 52.65it/s, loss=0.22, lr=0.00025] \n",
      "Epoch 19/30 [Val]: 100%|██████████| 503/503 [00:04<00:00, 117.76it/s]\n"
     ]
    },
    {
     "name": "stdout",
     "output_type": "stream",
     "text": [
      "Epoch 19/30 - Train Loss: 0.2202 - Val Loss: 0.0254 - Train Acc: 0.7764 - Val Acc: 0.9960 - LR: 0.000250 - Time: 42.47s\n"
     ]
    },
    {
     "name": "stderr",
     "output_type": "stream",
     "text": [
      "Epoch 20/30 [Train]: 100%|██████████| 2011/2011 [00:38<00:00, 52.62it/s, loss=0.192, lr=0.00025]\n",
      "Epoch 20/30 [Val]: 100%|██████████| 503/503 [00:04<00:00, 118.59it/s]\n"
     ]
    },
    {
     "name": "stdout",
     "output_type": "stream",
     "text": [
      "Epoch 20/30 - Train Loss: 0.2206 - Val Loss: 0.0275 - Train Acc: 0.7753 - Val Acc: 0.9964 - LR: 0.000250 - Time: 42.47s\n"
     ]
    },
    {
     "name": "stderr",
     "output_type": "stream",
     "text": [
      "Epoch 21/30 [Train]: 100%|██████████| 2011/2011 [00:38<00:00, 52.75it/s, loss=0.242, lr=0.00025]\n",
      "Epoch 21/30 [Val]: 100%|██████████| 503/503 [00:04<00:00, 119.87it/s]\n"
     ]
    },
    {
     "name": "stdout",
     "output_type": "stream",
     "text": [
      "Epoch 21/30 - Train Loss: 0.2207 - Val Loss: 0.0250 - Train Acc: 0.7754 - Val Acc: 0.9956 - LR: 0.000250 - Time: 42.33s\n"
     ]
    },
    {
     "name": "stderr",
     "output_type": "stream",
     "text": [
      "Epoch 22/30 [Train]: 100%|██████████| 2011/2011 [00:38<00:00, 52.66it/s, loss=0.179, lr=0.00025]\n",
      "Epoch 22/30 [Val]: 100%|██████████| 503/503 [00:04<00:00, 119.17it/s]\n"
     ]
    },
    {
     "name": "stdout",
     "output_type": "stream",
     "text": [
      "Epoch 22/30 - Train Loss: 0.2211 - Val Loss: 0.0266 - Train Acc: 0.7753 - Val Acc: 0.9958 - LR: 0.000250 - Time: 42.42s\n",
      "Early stopping triggered!\n",
      "Fold 1 Results:\n",
      "Accuracy: 0.9944, Recall: 0.9926, Precision: 0.9997, F1-Score: 0.9962, auroc: 0.9999\n"
     ]
    },
    {
     "data": {
      "image/png": "[encoded data removed]",
      "text/plain": [
       "<Figure size 640x480 with 1 Axes>"
      ]
     },
     "metadata": {},
     "output_type": "display_data"
    },
    {
     "name": "stdout",
     "output_type": "stream",
     "text": [
      "=== Starting Fold 2 ===\n"
     ]
    },
    {
     "name": "stderr",
     "output_type": "stream",
     "text": [
      "/home/pedro/miniconda3/envs/pytorch_env/lib/python3.9/site-packages/torch/optim/lr_scheduler.py:62: UserWarning: The verbose parameter is deprecated. Please use get_last_lr() to access the learning rate.\n",
      "  warnings.warn(\n",
      "Epoch 1/30 [Train]: 100%|██████████| 2011/2011 [00:40<00:00, 50.19it/s, loss=0.262, lr=0.001]\n",
      "Epoch 1/30 [Val]: 100%|██████████| 503/503 [00:04<00:00, 110.42it/s]\n"
     ]
    },
    {
     "name": "stdout",
     "output_type": "stream",
     "text": [
      "Epoch 1/30 - Train Loss: 0.3221 - Val Loss: 0.0420 - Train Acc: 0.7556 - Val Acc: 0.9914 - LR: 0.001000 - Time: 45.17s\n"
     ]
    },
    {
     "name": "stderr",
     "output_type": "stream",
     "text": [
      "Epoch 2/30 [Train]: 100%|██████████| 2011/2011 [00:38<00:00, 52.45it/s, loss=0.221, lr=0.001]\n",
      "Epoch 2/30 [Val]: 100%|██████████| 503/503 [00:04<00:00, 115.30it/s]\n"
     ]
    },
    {
     "name": "stdout",
     "output_type": "stream",
     "text": [
      "Epoch 2/30 - Train Loss: 0.2280 - Val Loss: 0.0411 - Train Acc: 0.7732 - Val Acc: 0.9922 - LR: 0.001000 - Time: 42.71s\n"
     ]
    },
    {
     "name": "stderr",
     "output_type": "stream",
     "text": [
      "Epoch 3/30 [Train]: 100%|██████████| 2011/2011 [00:38<00:00, 52.40it/s, loss=0.235, lr=0.001]\n",
      "Epoch 3/30 [Val]: 100%|██████████| 503/503 [00:04<00:00, 115.65it/s]\n"
     ]
    },
    {
     "name": "stdout",
     "output_type": "stream",
     "text": [
      "Epoch 3/30 - Train Loss: 0.2273 - Val Loss: 0.0341 - Train Acc: 0.7735 - Val Acc: 0.9949 - LR: 0.001000 - Time: 42.73s\n"
     ]
    },
    {
     "name": "stderr",
     "output_type": "stream",
     "text": [
      "Epoch 4/30 [Train]: 100%|██████████| 2011/2011 [00:38<00:00, 52.56it/s, loss=0.244, lr=0.001]\n",
      "Epoch 4/30 [Val]: 100%|██████████| 503/503 [00:04<00:00, 115.84it/s]\n"
     ]
    },
    {
     "name": "stdout",
     "output_type": "stream",
     "text": [
      "Epoch 4/30 - Train Loss: 0.2243 - Val Loss: 0.0275 - Train Acc: 0.7746 - Val Acc: 0.9956 - LR: 0.001000 - Time: 42.61s\n"
     ]
    },
    {
     "name": "stderr",
     "output_type": "stream",
     "text": [
      "Epoch 5/30 [Train]: 100%|██████████| 2011/2011 [00:38<00:00, 52.37it/s, loss=0.184, lr=0.001]\n",
      "Epoch 5/30 [Val]: 100%|██████████| 503/503 [00:04<00:00, 115.82it/s]\n"
     ]
    },
    {
     "name": "stdout",
     "output_type": "stream",
     "text": [
      "Epoch 5/30 - Train Loss: 0.2242 - Val Loss: 0.0289 - Train Acc: 0.7745 - Val Acc: 0.9937 - LR: 0.001000 - Time: 42.75s\n"
     ]
    },
    {
     "name": "stderr",
     "output_type": "stream",
     "text": [
      "Epoch 6/30 [Train]: 100%|██████████| 2011/2011 [00:38<00:00, 52.43it/s, loss=0.191, lr=0.001]\n",
      "Epoch 6/30 [Val]: 100%|██████████| 503/503 [00:04<00:00, 116.41it/s]\n"
     ]
    },
    {
     "name": "stdout",
     "output_type": "stream",
     "text": [
      "Epoch 6/30 - Train Loss: 0.2240 - Val Loss: 0.0324 - Train Acc: 0.7749 - Val Acc: 0.9960 - LR: 0.001000 - Time: 42.69s\n"
     ]
    },
    {
     "name": "stderr",
     "output_type": "stream",
     "text": [
      "Epoch 7/30 [Train]: 100%|██████████| 2011/2011 [00:38<00:00, 52.44it/s, loss=0.253, lr=0.001]\n",
      "Epoch 7/30 [Val]: 100%|██████████| 503/503 [00:04<00:00, 116.40it/s]\n"
     ]
    },
    {
     "name": "stdout",
     "output_type": "stream",
     "text": [
      "Epoch 7/30 - Train Loss: 0.2239 - Val Loss: 0.0313 - Train Acc: 0.7747 - Val Acc: 0.9963 - LR: 0.001000 - Time: 42.68s\n"
     ]
    },
    {
     "name": "stderr",
     "output_type": "stream",
     "text": [
      "Epoch 8/30 [Train]: 100%|██████████| 2011/2011 [00:38<00:00, 52.37it/s, loss=0.287, lr=0.001]\n",
      "Epoch 8/30 [Val]: 100%|██████████| 503/503 [00:04<00:00, 116.67it/s]\n"
     ]
    },
    {
     "name": "stdout",
     "output_type": "stream",
     "text": [
      "Epoch 8/30 - Train Loss: 0.2248 - Val Loss: 0.0328 - Train Acc: 0.7738 - Val Acc: 0.9961 - LR: 0.001000 - Time: 42.72s\n"
     ]
    },
    {
     "name": "stderr",
     "output_type": "stream",
     "text": [
      "Epoch 9/30 [Train]: 100%|██████████| 2011/2011 [00:38<00:00, 52.30it/s, loss=0.257, lr=0.0005]\n",
      "Epoch 9/30 [Val]: 100%|██████████| 503/503 [00:04<00:00, 115.54it/s]\n"
     ]
    },
    {
     "name": "stdout",
     "output_type": "stream",
     "text": [
      "Epoch 9/30 - Train Loss: 0.2231 - Val Loss: 0.0254 - Train Acc: 0.7743 - Val Acc: 0.9950 - LR: 0.000500 - Time: 42.82s\n"
     ]
    },
    {
     "name": "stderr",
     "output_type": "stream",
     "text": [
      "Epoch 10/30 [Train]: 100%|██████████| 2011/2011 [00:38<00:00, 52.31it/s, loss=0.186, lr=0.0005]\n",
      "Epoch 10/30 [Val]: 100%|██████████| 503/503 [00:04<00:00, 116.15it/s]\n"
     ]
    },
    {
     "name": "stdout",
     "output_type": "stream",
     "text": [
      "Epoch 10/30 - Train Loss: 0.2229 - Val Loss: 0.0275 - Train Acc: 0.7745 - Val Acc: 0.9957 - LR: 0.000500 - Time: 42.78s\n"
     ]
    },
    {
     "name": "stderr",
     "output_type": "stream",
     "text": [
      "Epoch 11/30 [Train]: 100%|██████████| 2011/2011 [00:38<00:00, 52.39it/s, loss=0.263, lr=0.0005]\n",
      "Epoch 11/30 [Val]: 100%|██████████| 503/503 [00:04<00:00, 116.72it/s]\n"
     ]
    },
    {
     "name": "stdout",
     "output_type": "stream",
     "text": [
      "Epoch 11/30 - Train Loss: 0.2233 - Val Loss: 0.0295 - Train Acc: 0.7750 - Val Acc: 0.9963 - LR: 0.000500 - Time: 42.70s\n"
     ]
    },
    {
     "name": "stderr",
     "output_type": "stream",
     "text": [
      "Epoch 12/30 [Train]: 100%|██████████| 2011/2011 [00:38<00:00, 52.35it/s, loss=0.257, lr=0.0005]\n",
      "Epoch 12/30 [Val]: 100%|██████████| 503/503 [00:04<00:00, 116.32it/s]\n"
     ]
    },
    {
     "name": "stdout",
     "output_type": "stream",
     "text": [
      "Epoch 12/30 - Train Loss: 0.2226 - Val Loss: 0.0271 - Train Acc: 0.7750 - Val Acc: 0.9954 - LR: 0.000500 - Time: 42.75s\n"
     ]
    },
    {
     "name": "stderr",
     "output_type": "stream",
     "text": [
      "Epoch 13/30 [Train]: 100%|██████████| 2011/2011 [00:38<00:00, 52.31it/s, loss=0.271, lr=0.0005]\n",
      "Epoch 13/30 [Val]: 100%|██████████| 503/503 [00:04<00:00, 115.50it/s]\n"
     ]
    },
    {
     "name": "stdout",
     "output_type": "stream",
     "text": [
      "Epoch 13/30 - Train Loss: 0.2230 - Val Loss: 0.0286 - Train Acc: 0.7745 - Val Acc: 0.9957 - LR: 0.000500 - Time: 42.81s\n"
     ]
    },
    {
     "name": "stderr",
     "output_type": "stream",
     "text": [
      "Epoch 14/30 [Train]: 100%|██████████| 2011/2011 [00:38<00:00, 52.33it/s, loss=0.189, lr=0.00025]\n",
      "Epoch 14/30 [Val]: 100%|██████████| 503/503 [00:04<00:00, 115.02it/s]\n"
     ]
    },
    {
     "name": "stdout",
     "output_type": "stream",
     "text": [
      "Epoch 14/30 - Train Loss: 0.2224 - Val Loss: 0.0278 - Train Acc: 0.7749 - Val Acc: 0.9958 - LR: 0.000250 - Time: 42.81s\n"
     ]
    },
    {
     "name": "stderr",
     "output_type": "stream",
     "text": [
      "Epoch 15/30 [Train]: 100%|██████████| 2011/2011 [00:38<00:00, 52.14it/s, loss=0.206, lr=0.00025]\n",
      "Epoch 15/30 [Val]: 100%|██████████| 503/503 [00:04<00:00, 115.19it/s]\n"
     ]
    },
    {
     "name": "stdout",
     "output_type": "stream",
     "text": [
      "Epoch 15/30 - Train Loss: 0.2225 - Val Loss: 0.0271 - Train Acc: 0.7753 - Val Acc: 0.9953 - LR: 0.000250 - Time: 42.94s\n"
     ]
    },
    {
     "name": "stderr",
     "output_type": "stream",
     "text": [
      "Epoch 16/30 [Train]: 100%|██████████| 2011/2011 [00:38<00:00, 52.16it/s, loss=0.21, lr=0.00025] \n",
      "Epoch 16/30 [Val]: 100%|██████████| 503/503 [00:04<00:00, 114.89it/s]\n"
     ]
    },
    {
     "name": "stdout",
     "output_type": "stream",
     "text": [
      "Epoch 16/30 - Train Loss: 0.2219 - Val Loss: 0.0265 - Train Acc: 0.7754 - Val Acc: 0.9956 - LR: 0.000250 - Time: 42.94s\n"
     ]
    },
    {
     "name": "stderr",
     "output_type": "stream",
     "text": [
      "Epoch 17/30 [Train]: 100%|██████████| 2011/2011 [00:38<00:00, 52.19it/s, loss=0.264, lr=0.00025]\n",
      "Epoch 17/30 [Val]: 100%|██████████| 503/503 [00:04<00:00, 115.77it/s]\n"
     ]
    },
    {
     "name": "stdout",
     "output_type": "stream",
     "text": [
      "Epoch 17/30 - Train Loss: 0.2215 - Val Loss: 0.0272 - Train Acc: 0.7758 - Val Acc: 0.9957 - LR: 0.000250 - Time: 42.89s\n"
     ]
    },
    {
     "name": "stderr",
     "output_type": "stream",
     "text": [
      "Epoch 18/30 [Train]: 100%|██████████| 2011/2011 [00:38<00:00, 52.41it/s, loss=0.194, lr=0.000125]\n",
      "Epoch 18/30 [Val]: 100%|██████████| 503/503 [00:04<00:00, 117.53it/s]\n"
     ]
    },
    {
     "name": "stdout",
     "output_type": "stream",
     "text": [
      "Epoch 18/30 - Train Loss: 0.2220 - Val Loss: 0.0269 - Train Acc: 0.7753 - Val Acc: 0.9949 - LR: 0.000125 - Time: 42.66s\n"
     ]
    },
    {
     "name": "stderr",
     "output_type": "stream",
     "text": [
      "Epoch 19/30 [Train]: 100%|██████████| 2011/2011 [00:38<00:00, 52.33it/s, loss=0.189, lr=0.000125]\n",
      "Epoch 19/30 [Val]: 100%|██████████| 503/503 [00:04<00:00, 115.41it/s]\n"
     ]
    },
    {
     "name": "stdout",
     "output_type": "stream",
     "text": [
      "Epoch 19/30 - Train Loss: 0.2217 - Val Loss: 0.0276 - Train Acc: 0.7755 - Val Acc: 0.9958 - LR: 0.000125 - Time: 42.79s\n",
      "Early stopping triggered!\n",
      "Fold 2 Results:\n",
      "Accuracy: 0.9945, Recall: 0.9932, Precision: 0.9994, F1-Score: 0.9963, auroc: 0.9998\n"
     ]
    },
    {
     "data": {
      "image/png": "[encoded data removed]",
      "text/plain": [
       "<Figure size 800x800 with 1 Axes>"
      ]
     },
     "metadata": {},
     "output_type": "display_data"
    },
    {
     "name": "stdout",
     "output_type": "stream",
     "text": [
      "=== Starting Fold 3 ===\n"
     ]
    },
    {
     "name": "stderr",
     "output_type": "stream",
     "text": [
      "/home/pedro/miniconda3/envs/pytorch_env/lib/python3.9/site-packages/torch/optim/lr_scheduler.py:62: UserWarning: The verbose parameter is deprecated. Please use get_last_lr() to access the learning rate.\n",
      "  warnings.warn(\n",
      "Epoch 1/30 [Train]: 100%|██████████| 2011/2011 [00:40<00:00, 50.16it/s, loss=0.23, lr=0.001] \n",
      "Epoch 1/30 [Val]: 100%|██████████| 503/503 [00:04<00:00, 109.61it/s]\n"
     ]
    },
    {
     "name": "stdout",
     "output_type": "stream",
     "text": [
      "Epoch 1/30 - Train Loss: 0.3572 - Val Loss: 0.0415 - Train Acc: 0.7588 - Val Acc: 0.9929 - LR: 0.001000 - Time: 44.87s\n"
     ]
    },
    {
     "name": "stderr",
     "output_type": "stream",
     "text": [
      "Epoch 2/30 [Train]: 100%|██████████| 2011/2011 [00:38<00:00, 52.26it/s, loss=0.198, lr=0.001]\n",
      "Epoch 2/30 [Val]: 100%|██████████| 503/503 [00:04<00:00, 115.24it/s]\n"
     ]
    },
    {
     "name": "stdout",
     "output_type": "stream",
     "text": [
      "Epoch 2/30 - Train Loss: 0.2276 - Val Loss: 0.0312 - Train Acc: 0.7725 - Val Acc: 0.9937 - LR: 0.001000 - Time: 42.85s\n"
     ]
    },
    {
     "name": "stderr",
     "output_type": "stream",
     "text": [
      "Epoch 3/30 [Train]: 100%|██████████| 2011/2011 [00:38<00:00, 52.26it/s, loss=0.261, lr=0.001]\n",
      "Epoch 3/30 [Val]: 100%|██████████| 503/503 [00:04<00:00, 114.06it/s]\n"
     ]
    },
    {
     "name": "stdout",
     "output_type": "stream",
     "text": [
      "Epoch 3/30 - Train Loss: 0.2263 - Val Loss: 0.0305 - Train Acc: 0.7738 - Val Acc: 0.9953 - LR: 0.001000 - Time: 42.90s\n"
     ]
    },
    {
     "name": "stderr",
     "output_type": "stream",
     "text": [
      "Epoch 4/30 [Train]: 100%|██████████| 2011/2011 [00:38<00:00, 52.17it/s, loss=0.217, lr=0.001]\n",
      "Epoch 4/30 [Val]: 100%|██████████| 503/503 [00:04<00:00, 114.58it/s]\n"
     ]
    },
    {
     "name": "stdout",
     "output_type": "stream",
     "text": [
      "Epoch 4/30 - Train Loss: 0.2257 - Val Loss: 0.0365 - Train Acc: 0.7743 - Val Acc: 0.9909 - LR: 0.001000 - Time: 42.95s\n"
     ]
    },
    {
     "name": "stderr",
     "output_type": "stream",
     "text": [
      "Epoch 5/30 [Train]: 100%|██████████| 2011/2011 [00:38<00:00, 52.12it/s, loss=0.199, lr=0.001]\n",
      "Epoch 5/30 [Val]: 100%|██████████| 503/503 [00:04<00:00, 115.37it/s]\n"
     ]
    },
    {
     "name": "stdout",
     "output_type": "stream",
     "text": [
      "Epoch 5/30 - Train Loss: 0.2244 - Val Loss: 0.0343 - Train Acc: 0.7747 - Val Acc: 0.9946 - LR: 0.001000 - Time: 42.95s\n"
     ]
    },
    {
     "name": "stderr",
     "output_type": "stream",
     "text": [
      "Epoch 6/30 [Train]: 100%|██████████| 2011/2011 [00:38<00:00, 52.21it/s, loss=0.211, lr=0.001]\n",
      "Epoch 6/30 [Val]: 100%|██████████| 503/503 [00:04<00:00, 115.96it/s]\n"
     ]
    },
    {
     "name": "stdout",
     "output_type": "stream",
     "text": [
      "Epoch 6/30 - Train Loss: 0.2236 - Val Loss: 0.0319 - Train Acc: 0.7742 - Val Acc: 0.9939 - LR: 0.001000 - Time: 42.86s\n"
     ]
    },
    {
     "name": "stderr",
     "output_type": "stream",
     "text": [
      "Epoch 7/30 [Train]: 100%|██████████| 2011/2011 [00:38<00:00, 52.25it/s, loss=0.284, lr=0.001]\n",
      "Epoch 7/30 [Val]: 100%|██████████| 503/503 [00:04<00:00, 114.31it/s]\n"
     ]
    },
    {
     "name": "stdout",
     "output_type": "stream",
     "text": [
      "Epoch 7/30 - Train Loss: 0.2511 - Val Loss: 0.0360 - Train Acc: 0.7708 - Val Acc: 0.9955 - LR: 0.001000 - Time: 42.90s\n"
     ]
    },
    {
     "name": "stderr",
     "output_type": "stream",
     "text": [
      "Epoch 8/30 [Train]: 100%|██████████| 2011/2011 [00:38<00:00, 52.22it/s, loss=0.221, lr=0.0005]\n",
      "Epoch 8/30 [Val]: 100%|██████████| 503/503 [00:04<00:00, 113.80it/s]\n"
     ]
    },
    {
     "name": "stdout",
     "output_type": "stream",
     "text": [
      "Epoch 8/30 - Train Loss: 0.2237 - Val Loss: 0.0359 - Train Acc: 0.7753 - Val Acc: 0.9922 - LR: 0.000500 - Time: 42.94s\n"
     ]
    },
    {
     "name": "stderr",
     "output_type": "stream",
     "text": [
      "Epoch 9/30 [Train]: 100%|██████████| 2011/2011 [00:38<00:00, 52.26it/s, loss=0.225, lr=0.0005]\n",
      "Epoch 9/30 [Val]: 100%|██████████| 503/503 [00:04<00:00, 113.75it/s]\n"
     ]
    },
    {
     "name": "stdout",
     "output_type": "stream",
     "text": [
      "Epoch 9/30 - Train Loss: 0.2227 - Val Loss: 0.0290 - Train Acc: 0.7754 - Val Acc: 0.9932 - LR: 0.000500 - Time: 42.91s\n"
     ]
    },
    {
     "name": "stderr",
     "output_type": "stream",
     "text": [
      "Epoch 10/30 [Train]: 100%|██████████| 2011/2011 [00:38<00:00, 52.28it/s, loss=0.233, lr=0.0005]\n",
      "Epoch 10/30 [Val]: 100%|██████████| 503/503 [00:04<00:00, 115.43it/s]\n"
     ]
    },
    {
     "name": "stdout",
     "output_type": "stream",
     "text": [
      "Epoch 10/30 - Train Loss: 0.2231 - Val Loss: 0.0330 - Train Acc: 0.7748 - Val Acc: 0.9952 - LR: 0.000500 - Time: 42.84s\n"
     ]
    },
    {
     "name": "stderr",
     "output_type": "stream",
     "text": [
      "Epoch 11/30 [Train]: 100%|██████████| 2011/2011 [00:38<00:00, 52.29it/s, loss=0.16, lr=0.0005] \n",
      "Epoch 11/30 [Val]: 100%|██████████| 503/503 [00:04<00:00, 113.82it/s]\n"
     ]
    },
    {
     "name": "stdout",
     "output_type": "stream",
     "text": [
      "Epoch 11/30 - Train Loss: 0.2231 - Val Loss: 0.0301 - Train Acc: 0.7746 - Val Acc: 0.9939 - LR: 0.000500 - Time: 42.89s\n"
     ]
    },
    {
     "name": "stderr",
     "output_type": "stream",
     "text": [
      "Epoch 12/30 [Train]: 100%|██████████| 2011/2011 [00:38<00:00, 52.28it/s, loss=0.217, lr=0.0005]\n",
      "Epoch 12/30 [Val]: 100%|██████████| 503/503 [00:04<00:00, 116.30it/s]\n"
     ]
    },
    {
     "name": "stdout",
     "output_type": "stream",
     "text": [
      "Epoch 12/30 - Train Loss: 0.2231 - Val Loss: 0.0302 - Train Acc: 0.7746 - Val Acc: 0.9946 - LR: 0.000500 - Time: 42.80s\n"
     ]
    },
    {
     "name": "stderr",
     "output_type": "stream",
     "text": [
      "Epoch 13/30 [Train]: 100%|██████████| 2011/2011 [00:38<00:00, 52.28it/s, loss=0.205, lr=0.0005]\n",
      "Epoch 13/30 [Val]: 100%|██████████| 503/503 [00:04<00:00, 115.82it/s]\n"
     ]
    },
    {
     "name": "stdout",
     "output_type": "stream",
     "text": [
      "Epoch 13/30 - Train Loss: 0.2221 - Val Loss: 0.0298 - Train Acc: 0.7753 - Val Acc: 0.9926 - LR: 0.000500 - Time: 42.82s\n"
     ]
    },
    {
     "name": "stderr",
     "output_type": "stream",
     "text": [
      "Epoch 14/30 [Train]: 100%|██████████| 2011/2011 [00:38<00:00, 52.29it/s, loss=0.183, lr=0.00025]\n",
      "Epoch 14/30 [Val]: 100%|██████████| 503/503 [00:04<00:00, 114.20it/s]\n"
     ]
    },
    {
     "name": "stdout",
     "output_type": "stream",
     "text": [
      "Epoch 14/30 - Train Loss: 0.2226 - Val Loss: 0.0364 - Train Acc: 0.7744 - Val Acc: 0.9961 - LR: 0.000250 - Time: 42.88s\n"
     ]
    },
    {
     "name": "stderr",
     "output_type": "stream",
     "text": [
      "Epoch 15/30 [Train]: 100%|██████████| 2011/2011 [00:38<00:00, 52.22it/s, loss=0.204, lr=0.00025]\n",
      "Epoch 15/30 [Val]: 100%|██████████| 503/503 [00:04<00:00, 115.93it/s]\n"
     ]
    },
    {
     "name": "stdout",
     "output_type": "stream",
     "text": [
      "Epoch 15/30 - Train Loss: 0.2225 - Val Loss: 0.0293 - Train Acc: 0.7742 - Val Acc: 0.9950 - LR: 0.000250 - Time: 42.86s\n"
     ]
    },
    {
     "name": "stderr",
     "output_type": "stream",
     "text": [
      "Epoch 16/30 [Train]: 100%|██████████| 2011/2011 [00:38<00:00, 52.30it/s, loss=0.208, lr=0.00025]\n",
      "Epoch 16/30 [Val]: 100%|██████████| 503/503 [00:04<00:00, 115.04it/s]\n"
     ]
    },
    {
     "name": "stdout",
     "output_type": "stream",
     "text": [
      "Epoch 16/30 - Train Loss: 0.2230 - Val Loss: 0.0360 - Train Acc: 0.7740 - Val Acc: 0.9966 - LR: 0.000250 - Time: 42.84s\n"
     ]
    },
    {
     "name": "stderr",
     "output_type": "stream",
     "text": [
      "Epoch 17/30 [Train]: 100%|██████████| 2011/2011 [00:38<00:00, 52.30it/s, loss=0.281, lr=0.00025]\n",
      "Epoch 17/30 [Val]: 100%|██████████| 503/503 [00:04<00:00, 115.46it/s]\n"
     ]
    },
    {
     "name": "stdout",
     "output_type": "stream",
     "text": [
      "Epoch 17/30 - Train Loss: 0.2224 - Val Loss: 0.0321 - Train Acc: 0.7742 - Val Acc: 0.9962 - LR: 0.000250 - Time: 42.82s\n"
     ]
    },
    {
     "name": "stderr",
     "output_type": "stream",
     "text": [
      "Epoch 18/30 [Train]: 100%|██████████| 2011/2011 [00:38<00:00, 52.27it/s, loss=0.217, lr=0.000125]\n",
      "Epoch 18/30 [Val]: 100%|██████████| 503/503 [00:04<00:00, 115.10it/s]\n"
     ]
    },
    {
     "name": "stdout",
     "output_type": "stream",
     "text": [
      "Epoch 18/30 - Train Loss: 0.2214 - Val Loss: 0.0309 - Train Acc: 0.7753 - Val Acc: 0.9957 - LR: 0.000125 - Time: 42.85s\n"
     ]
    },
    {
     "name": "stderr",
     "output_type": "stream",
     "text": [
      "Epoch 19/30 [Train]: 100%|██████████| 2011/2011 [00:38<00:00, 52.27it/s, loss=0.188, lr=0.000125]\n",
      "Epoch 19/30 [Val]: 100%|██████████| 503/503 [00:04<00:00, 115.78it/s]\n"
     ]
    },
    {
     "name": "stdout",
     "output_type": "stream",
     "text": [
      "Epoch 19/30 - Train Loss: 0.2209 - Val Loss: 0.0304 - Train Acc: 0.7755 - Val Acc: 0.9961 - LR: 0.000125 - Time: 42.83s\n",
      "Early stopping triggered!\n",
      "Fold 3 Results:\n",
      "Accuracy: 0.9950, Recall: 0.9938, Precision: 0.9994, F1-Score: 0.9966, auroc: 0.9999\n"
     ]
    },
    {
     "data": {
      "image/png": "[encoded data removed]",
      "text/plain": [
       "<Figure size 800x800 with 1 Axes>"
      ]
     },
     "metadata": {},
     "output_type": "display_data"
    },
    {
     "name": "stdout",
     "output_type": "stream",
     "text": [
      "=== Starting Fold 4 ===\n"
     ]
    },
    {
     "name": "stderr",
     "output_type": "stream",
     "text": [
      "/home/pedro/miniconda3/envs/pytorch_env/lib/python3.9/site-packages/torch/optim/lr_scheduler.py:62: UserWarning: The verbose parameter is deprecated. Please use get_last_lr() to access the learning rate.\n",
      "  warnings.warn(\n",
      "Epoch 1/30 [Train]: 100%|██████████| 2011/2011 [00:40<00:00, 50.24it/s, loss=0.205, lr=0.001]\n",
      "Epoch 1/30 [Val]: 100%|██████████| 503/503 [00:04<00:00, 105.78it/s]\n"
     ]
    },
    {
     "name": "stdout",
     "output_type": "stream",
     "text": [
      "Epoch 1/30 - Train Loss: 0.2788 - Val Loss: 0.0368 - Train Acc: 0.7606 - Val Acc: 0.9941 - LR: 0.001000 - Time: 44.90s\n"
     ]
    },
    {
     "name": "stderr",
     "output_type": "stream",
     "text": [
      "Epoch 2/30 [Train]: 100%|██████████| 2011/2011 [00:38<00:00, 51.61it/s, loss=0.249, lr=0.001]\n",
      "Epoch 2/30 [Val]: 100%|██████████| 503/503 [00:04<00:00, 110.61it/s]\n"
     ]
    },
    {
     "name": "stdout",
     "output_type": "stream",
     "text": [
      "Epoch 2/30 - Train Loss: 0.2265 - Val Loss: 0.0272 - Train Acc: 0.7739 - Val Acc: 0.9960 - LR: 0.001000 - Time: 43.53s\n"
     ]
    },
    {
     "name": "stderr",
     "output_type": "stream",
     "text": [
      "Epoch 3/30 [Train]: 100%|██████████| 2011/2011 [00:38<00:00, 51.67it/s, loss=0.235, lr=0.001]\n",
      "Epoch 3/30 [Val]: 100%|██████████| 503/503 [00:04<00:00, 112.96it/s]\n"
     ]
    },
    {
     "name": "stdout",
     "output_type": "stream",
     "text": [
      "Epoch 3/30 - Train Loss: 0.2244 - Val Loss: 0.0283 - Train Acc: 0.7744 - Val Acc: 0.9951 - LR: 0.001000 - Time: 43.39s\n"
     ]
    },
    {
     "name": "stderr",
     "output_type": "stream",
     "text": [
      "Epoch 4/30 [Train]: 100%|██████████| 2011/2011 [00:38<00:00, 51.94it/s, loss=0.225, lr=0.001]\n",
      "Epoch 4/30 [Val]: 100%|██████████| 503/503 [00:04<00:00, 111.03it/s]\n"
     ]
    },
    {
     "name": "stdout",
     "output_type": "stream",
     "text": [
      "Epoch 4/30 - Train Loss: 0.2219 - Val Loss: 0.0278 - Train Acc: 0.7759 - Val Acc: 0.9963 - LR: 0.001000 - Time: 43.26s\n"
     ]
    },
    {
     "name": "stderr",
     "output_type": "stream",
     "text": [
      "Epoch 5/30 [Train]: 100%|██████████| 2011/2011 [00:38<00:00, 51.98it/s, loss=0.296, lr=0.001]\n",
      "Epoch 5/30 [Val]: 100%|██████████| 503/503 [00:04<00:00, 112.73it/s]\n"
     ]
    },
    {
     "name": "stdout",
     "output_type": "stream",
     "text": [
      "Epoch 5/30 - Train Loss: 0.2227 - Val Loss: 0.0243 - Train Acc: 0.7749 - Val Acc: 0.9958 - LR: 0.001000 - Time: 43.16s\n"
     ]
    },
    {
     "name": "stderr",
     "output_type": "stream",
     "text": [
      "Epoch 6/30 [Train]: 100%|██████████| 2011/2011 [00:38<00:00, 52.08it/s, loss=0.235, lr=0.001]\n",
      "Epoch 6/30 [Val]: 100%|██████████| 503/503 [00:04<00:00, 112.60it/s]\n"
     ]
    },
    {
     "name": "stdout",
     "output_type": "stream",
     "text": [
      "Epoch 6/30 - Train Loss: 0.2227 - Val Loss: 0.0488 - Train Acc: 0.7751 - Val Acc: 0.9930 - LR: 0.001000 - Time: 43.09s\n"
     ]
    },
    {
     "name": "stderr",
     "output_type": "stream",
     "text": [
      "Epoch 7/30 [Train]: 100%|██████████| 2011/2011 [00:38<00:00, 52.05it/s, loss=0.272, lr=0.001]\n",
      "Epoch 7/30 [Val]: 100%|██████████| 503/503 [00:04<00:00, 112.86it/s]\n"
     ]
    },
    {
     "name": "stdout",
     "output_type": "stream",
     "text": [
      "Epoch 7/30 - Train Loss: 0.2293 - Val Loss: 0.0238 - Train Acc: 0.7727 - Val Acc: 0.9947 - LR: 0.001000 - Time: 43.10s\n"
     ]
    },
    {
     "name": "stderr",
     "output_type": "stream",
     "text": [
      "Epoch 8/30 [Train]: 100%|██████████| 2011/2011 [00:38<00:00, 52.10it/s, loss=0.23, lr=0.001] \n",
      "Epoch 8/30 [Val]: 100%|██████████| 503/503 [00:04<00:00, 111.71it/s]\n"
     ]
    },
    {
     "name": "stdout",
     "output_type": "stream",
     "text": [
      "Epoch 8/30 - Train Loss: 0.2227 - Val Loss: 0.0340 - Train Acc: 0.7745 - Val Acc: 0.9955 - LR: 0.001000 - Time: 43.11s\n"
     ]
    },
    {
     "name": "stderr",
     "output_type": "stream",
     "text": [
      "Epoch 9/30 [Train]: 100%|██████████| 2011/2011 [00:38<00:00, 51.99it/s, loss=0.174, lr=0.001]\n",
      "Epoch 9/30 [Val]: 100%|██████████| 503/503 [00:04<00:00, 112.15it/s]\n"
     ]
    },
    {
     "name": "stdout",
     "output_type": "stream",
     "text": [
      "Epoch 9/30 - Train Loss: 0.2224 - Val Loss: 0.0309 - Train Acc: 0.7756 - Val Acc: 0.9961 - LR: 0.001000 - Time: 43.18s\n"
     ]
    },
    {
     "name": "stderr",
     "output_type": "stream",
     "text": [
      "Epoch 10/30 [Train]: 100%|██████████| 2011/2011 [00:38<00:00, 52.14it/s, loss=0.284, lr=0.001]\n",
      "Epoch 10/30 [Val]: 100%|██████████| 503/503 [00:04<00:00, 112.51it/s]\n"
     ]
    },
    {
     "name": "stdout",
     "output_type": "stream",
     "text": [
      "Epoch 10/30 - Train Loss: 0.2226 - Val Loss: 0.0330 - Train Acc: 0.7748 - Val Acc: 0.9970 - LR: 0.001000 - Time: 43.05s\n"
     ]
    },
    {
     "name": "stderr",
     "output_type": "stream",
     "text": [
      "Epoch 11/30 [Train]: 100%|██████████| 2011/2011 [00:38<00:00, 52.09it/s, loss=0.288, lr=0.001]\n",
      "Epoch 11/30 [Val]: 100%|██████████| 503/503 [00:04<00:00, 110.26it/s]\n"
     ]
    },
    {
     "name": "stdout",
     "output_type": "stream",
     "text": [
      "Epoch 11/30 - Train Loss: 0.2224 - Val Loss: 0.0294 - Train Acc: 0.7748 - Val Acc: 0.9961 - LR: 0.001000 - Time: 43.18s\n"
     ]
    },
    {
     "name": "stderr",
     "output_type": "stream",
     "text": [
      "Epoch 12/30 [Train]: 100%|██████████| 2011/2011 [00:38<00:00, 51.96it/s, loss=0.247, lr=0.0005]\n",
      "Epoch 12/30 [Val]: 100%|██████████| 503/503 [00:04<00:00, 112.99it/s]\n"
     ]
    },
    {
     "name": "stdout",
     "output_type": "stream",
     "text": [
      "Epoch 12/30 - Train Loss: 0.2214 - Val Loss: 0.0332 - Train Acc: 0.7755 - Val Acc: 0.9931 - LR: 0.000500 - Time: 43.16s\n"
     ]
    },
    {
     "name": "stderr",
     "output_type": "stream",
     "text": [
      "Epoch 13/30 [Train]: 100%|██████████| 2011/2011 [00:38<00:00, 51.94it/s, loss=0.259, lr=0.0005]\n",
      "Epoch 13/30 [Val]: 100%|██████████| 503/503 [00:04<00:00, 112.47it/s]\n"
     ]
    },
    {
     "name": "stdout",
     "output_type": "stream",
     "text": [
      "Epoch 13/30 - Train Loss: 0.2210 - Val Loss: 0.0249 - Train Acc: 0.7754 - Val Acc: 0.9966 - LR: 0.000500 - Time: 43.20s\n"
     ]
    },
    {
     "name": "stderr",
     "output_type": "stream",
     "text": [
      "Epoch 14/30 [Train]: 100%|██████████| 2011/2011 [00:38<00:00, 51.93it/s, loss=0.124, lr=0.0005]\n",
      "Epoch 14/30 [Val]: 100%|██████████| 503/503 [00:04<00:00, 112.73it/s]\n"
     ]
    },
    {
     "name": "stdout",
     "output_type": "stream",
     "text": [
      "Epoch 14/30 - Train Loss: 0.2221 - Val Loss: 0.0289 - Train Acc: 0.7740 - Val Acc: 0.9931 - LR: 0.000500 - Time: 43.19s\n"
     ]
    },
    {
     "name": "stderr",
     "output_type": "stream",
     "text": [
      "Epoch 15/30 [Train]: 100%|██████████| 2011/2011 [00:38<00:00, 51.94it/s, loss=0.229, lr=0.0005]\n",
      "Epoch 15/30 [Val]: 100%|██████████| 503/503 [00:04<00:00, 112.58it/s]\n"
     ]
    },
    {
     "name": "stdout",
     "output_type": "stream",
     "text": [
      "Epoch 15/30 - Train Loss: 0.2216 - Val Loss: 0.0249 - Train Acc: 0.7754 - Val Acc: 0.9961 - LR: 0.000500 - Time: 43.20s\n",
      "Early stopping triggered!\n",
      "Fold 4 Results:\n",
      "Accuracy: 0.9947, Recall: 0.9931, Precision: 0.9997, F1-Score: 0.9964, auroc: 0.9999\n"
     ]
    },
    {
     "data": {
      "image/png": "[encoded data removed]",
      "text/plain": [
       "<Figure size 800x800 with 1 Axes>"
      ]
     },
     "metadata": {},
     "output_type": "display_data"
    },
    {
     "name": "stdout",
     "output_type": "stream",
     "text": [
      "=== Starting Fold 5 ===\n"
     ]
    },
    {
     "name": "stderr",
     "output_type": "stream",
     "text": [
      "/home/pedro/miniconda3/envs/pytorch_env/lib/python3.9/site-packages/torch/optim/lr_scheduler.py:62: UserWarning: The verbose parameter is deprecated. Please use get_last_lr() to access the learning rate.\n",
      "  warnings.warn(\n",
      "Epoch 1/30 [Train]: 100%|██████████| 2011/2011 [00:40<00:00, 50.06it/s, loss=0.203, lr=0.001]\n",
      "Epoch 1/30 [Val]: 100%|██████████| 503/503 [00:04<00:00, 109.22it/s]\n"
     ]
    },
    {
     "name": "stdout",
     "output_type": "stream",
     "text": [
      "Epoch 1/30 - Train Loss: 0.2936 - Val Loss: 0.0404 - Train Acc: 0.7582 - Val Acc: 0.9939 - LR: 0.001000 - Time: 44.84s\n"
     ]
    },
    {
     "name": "stderr",
     "output_type": "stream",
     "text": [
      "Epoch 2/30 [Train]: 100%|██████████| 2011/2011 [00:38<00:00, 52.07it/s, loss=0.239, lr=0.001]\n",
      "Epoch 2/30 [Val]: 100%|██████████| 503/503 [00:04<00:00, 110.60it/s]\n"
     ]
    },
    {
     "name": "stdout",
     "output_type": "stream",
     "text": [
      "Epoch 2/30 - Train Loss: 0.2332 - Val Loss: 0.0320 - Train Acc: 0.7725 - Val Acc: 0.9941 - LR: 0.001000 - Time: 43.18s\n"
     ]
    },
    {
     "name": "stderr",
     "output_type": "stream",
     "text": [
      "Epoch 3/30 [Train]: 100%|██████████| 2011/2011 [00:38<00:00, 51.95it/s, loss=0.224, lr=0.001]\n",
      "Epoch 3/30 [Val]: 100%|██████████| 503/503 [00:04<00:00, 111.80it/s]\n"
     ]
    },
    {
     "name": "stdout",
     "output_type": "stream",
     "text": [
      "Epoch 3/30 - Train Loss: 0.2271 - Val Loss: 0.0309 - Train Acc: 0.7738 - Val Acc: 0.9933 - LR: 0.001000 - Time: 43.22s\n"
     ]
    },
    {
     "name": "stderr",
     "output_type": "stream",
     "text": [
      "Epoch 4/30 [Train]: 100%|██████████| 2011/2011 [00:38<00:00, 52.08it/s, loss=0.2, lr=0.001]  \n",
      "Epoch 4/30 [Val]: 100%|██████████| 503/503 [00:04<00:00, 112.15it/s]\n"
     ]
    },
    {
     "name": "stdout",
     "output_type": "stream",
     "text": [
      "Epoch 4/30 - Train Loss: 0.2306 - Val Loss: 0.0315 - Train Acc: 0.7729 - Val Acc: 0.9929 - LR: 0.001000 - Time: 43.11s\n"
     ]
    },
    {
     "name": "stderr",
     "output_type": "stream",
     "text": [
      "Epoch 5/30 [Train]: 100%|██████████| 2011/2011 [00:38<00:00, 51.99it/s, loss=0.211, lr=0.001]\n",
      "Epoch 5/30 [Val]: 100%|██████████| 503/503 [00:04<00:00, 112.32it/s]\n"
     ]
    },
    {
     "name": "stdout",
     "output_type": "stream",
     "text": [
      "Epoch 5/30 - Train Loss: 0.2251 - Val Loss: 0.0332 - Train Acc: 0.7739 - Val Acc: 0.9953 - LR: 0.001000 - Time: 43.17s\n"
     ]
    },
    {
     "name": "stderr",
     "output_type": "stream",
     "text": [
      "Epoch 6/30 [Train]: 100%|██████████| 2011/2011 [00:38<00:00, 51.96it/s, loss=0.178, lr=0.001]\n",
      "Epoch 6/30 [Val]: 100%|██████████| 503/503 [00:04<00:00, 111.29it/s]\n"
     ]
    },
    {
     "name": "stdout",
     "output_type": "stream",
     "text": [
      "Epoch 6/30 - Train Loss: 0.2254 - Val Loss: 0.0309 - Train Acc: 0.7738 - Val Acc: 0.9938 - LR: 0.001000 - Time: 43.23s\n"
     ]
    },
    {
     "name": "stderr",
     "output_type": "stream",
     "text": [
      "Epoch 7/30 [Train]: 100%|██████████| 2011/2011 [00:38<00:00, 52.05it/s, loss=0.241, lr=0.001]\n",
      "Epoch 7/30 [Val]: 100%|██████████| 503/503 [00:04<00:00, 113.02it/s]\n"
     ]
    },
    {
     "name": "stdout",
     "output_type": "stream",
     "text": [
      "Epoch 7/30 - Train Loss: 0.2248 - Val Loss: 0.0322 - Train Acc: 0.7745 - Val Acc: 0.9945 - LR: 0.001000 - Time: 43.10s\n"
     ]
    },
    {
     "name": "stderr",
     "output_type": "stream",
     "text": [
      "Epoch 8/30 [Train]: 100%|██████████| 2011/2011 [00:38<00:00, 52.01it/s, loss=0.279, lr=0.001]\n",
      "Epoch 8/30 [Val]: 100%|██████████| 503/503 [00:04<00:00, 113.38it/s]\n"
     ]
    },
    {
     "name": "stdout",
     "output_type": "stream",
     "text": [
      "Epoch 8/30 - Train Loss: 0.2256 - Val Loss: 0.0312 - Train Acc: 0.7744 - Val Acc: 0.9935 - LR: 0.001000 - Time: 43.11s\n"
     ]
    },
    {
     "name": "stderr",
     "output_type": "stream",
     "text": [
      "Epoch 9/30 [Train]: 100%|██████████| 2011/2011 [00:38<00:00, 52.03it/s, loss=0.264, lr=0.001]\n",
      "Epoch 9/30 [Val]: 100%|██████████| 503/503 [00:04<00:00, 111.81it/s]\n"
     ]
    },
    {
     "name": "stdout",
     "output_type": "stream",
     "text": [
      "Epoch 9/30 - Train Loss: 0.2251 - Val Loss: 0.0363 - Train Acc: 0.7743 - Val Acc: 0.9957 - LR: 0.001000 - Time: 43.16s\n"
     ]
    },
    {
     "name": "stderr",
     "output_type": "stream",
     "text": [
      "Epoch 10/30 [Train]: 100%|██████████| 2011/2011 [00:38<00:00, 52.06it/s, loss=0.206, lr=0.001]\n",
      "Epoch 10/30 [Val]: 100%|██████████| 503/503 [00:04<00:00, 113.46it/s]\n"
     ]
    },
    {
     "name": "stdout",
     "output_type": "stream",
     "text": [
      "Epoch 10/30 - Train Loss: 0.2240 - Val Loss: 0.0358 - Train Acc: 0.7752 - Val Acc: 0.9945 - LR: 0.001000 - Time: 43.07s\n"
     ]
    },
    {
     "name": "stderr",
     "output_type": "stream",
     "text": [
      "Epoch 11/30 [Train]: 100%|██████████| 2011/2011 [00:38<00:00, 52.01it/s, loss=0.213, lr=0.0005]\n",
      "Epoch 11/30 [Val]: 100%|██████████| 503/503 [00:04<00:00, 112.44it/s]\n"
     ]
    },
    {
     "name": "stdout",
     "output_type": "stream",
     "text": [
      "Epoch 11/30 - Train Loss: 0.2241 - Val Loss: 0.0310 - Train Acc: 0.7737 - Val Acc: 0.9949 - LR: 0.000500 - Time: 43.15s\n"
     ]
    },
    {
     "name": "stderr",
     "output_type": "stream",
     "text": [
      "Epoch 12/30 [Train]: 100%|██████████| 2011/2011 [00:38<00:00, 52.07it/s, loss=0.219, lr=0.0005]\n",
      "Epoch 12/30 [Val]: 100%|██████████| 503/503 [00:04<00:00, 112.38it/s]\n"
     ]
    },
    {
     "name": "stdout",
     "output_type": "stream",
     "text": [
      "Epoch 12/30 - Train Loss: 0.2234 - Val Loss: 0.0318 - Train Acc: 0.7746 - Val Acc: 0.9941 - LR: 0.000500 - Time: 43.11s\n"
     ]
    },
    {
     "name": "stderr",
     "output_type": "stream",
     "text": [
      "Epoch 13/30 [Train]: 100%|██████████| 2011/2011 [00:38<00:00, 52.06it/s, loss=0.249, lr=0.0005]\n",
      "Epoch 13/30 [Val]: 100%|██████████| 503/503 [00:04<00:00, 112.77it/s]\n"
     ]
    },
    {
     "name": "stdout",
     "output_type": "stream",
     "text": [
      "Epoch 13/30 - Train Loss: 0.2233 - Val Loss: 0.0295 - Train Acc: 0.7754 - Val Acc: 0.9947 - LR: 0.000500 - Time: 43.10s\n"
     ]
    },
    {
     "name": "stderr",
     "output_type": "stream",
     "text": [
      "Epoch 14/30 [Train]: 100%|██████████| 2011/2011 [00:38<00:00, 52.03it/s, loss=0.197, lr=0.0005]\n",
      "Epoch 14/30 [Val]: 100%|██████████| 503/503 [00:04<00:00, 112.19it/s]\n"
     ]
    },
    {
     "name": "stdout",
     "output_type": "stream",
     "text": [
      "Epoch 14/30 - Train Loss: 0.2232 - Val Loss: 0.0324 - Train Acc: 0.7753 - Val Acc: 0.9951 - LR: 0.000500 - Time: 43.15s\n"
     ]
    },
    {
     "name": "stderr",
     "output_type": "stream",
     "text": [
      "Epoch 15/30 [Train]: 100%|██████████| 2011/2011 [00:38<00:00, 51.91it/s, loss=0.225, lr=0.0005]\n",
      "Epoch 15/30 [Val]: 100%|██████████| 503/503 [00:04<00:00, 112.44it/s]\n"
     ]
    },
    {
     "name": "stdout",
     "output_type": "stream",
     "text": [
      "Epoch 15/30 - Train Loss: 0.2238 - Val Loss: 0.0329 - Train Acc: 0.7742 - Val Acc: 0.9946 - LR: 0.000500 - Time: 43.22s\n"
     ]
    },
    {
     "name": "stderr",
     "output_type": "stream",
     "text": [
      "Epoch 16/30 [Train]: 100%|██████████| 2011/2011 [00:38<00:00, 52.01it/s, loss=0.207, lr=0.0005]\n",
      "Epoch 16/30 [Val]: 100%|██████████| 503/503 [00:04<00:00, 113.13it/s]\n"
     ]
    },
    {
     "name": "stdout",
     "output_type": "stream",
     "text": [
      "Epoch 16/30 - Train Loss: 0.2227 - Val Loss: 0.0305 - Train Acc: 0.7754 - Val Acc: 0.9948 - LR: 0.000500 - Time: 43.12s\n"
     ]
    },
    {
     "name": "stderr",
     "output_type": "stream",
     "text": [
      "Epoch 17/30 [Train]: 100%|██████████| 2011/2011 [00:38<00:00, 52.12it/s, loss=0.249, lr=0.0005]\n",
      "Epoch 17/30 [Val]: 100%|██████████| 503/503 [00:04<00:00, 112.49it/s]\n"
     ]
    },
    {
     "name": "stdout",
     "output_type": "stream",
     "text": [
      "Epoch 17/30 - Train Loss: 0.2235 - Val Loss: 0.0282 - Train Acc: 0.7749 - Val Acc: 0.9947 - LR: 0.000500 - Time: 43.06s\n"
     ]
    },
    {
     "name": "stderr",
     "output_type": "stream",
     "text": [
      "Epoch 18/30 [Train]: 100%|██████████| 2011/2011 [00:38<00:00, 52.05it/s, loss=0.241, lr=0.0005]\n",
      "Epoch 18/30 [Val]: 100%|██████████| 503/503 [00:04<00:00, 112.89it/s]\n"
     ]
    },
    {
     "name": "stdout",
     "output_type": "stream",
     "text": [
      "Epoch 18/30 - Train Loss: 0.2233 - Val Loss: 0.0291 - Train Acc: 0.7749 - Val Acc: 0.9952 - LR: 0.000500 - Time: 43.10s\n"
     ]
    },
    {
     "name": "stderr",
     "output_type": "stream",
     "text": [
      "Epoch 19/30 [Train]: 100%|██████████| 2011/2011 [00:38<00:00, 52.09it/s, loss=0.229, lr=0.0005]\n",
      "Epoch 19/30 [Val]: 100%|██████████| 503/503 [00:04<00:00, 112.36it/s]\n"
     ]
    },
    {
     "name": "stdout",
     "output_type": "stream",
     "text": [
      "Epoch 19/30 - Train Loss: 0.2233 - Val Loss: 0.0317 - Train Acc: 0.7746 - Val Acc: 0.9956 - LR: 0.000500 - Time: 43.09s\n"
     ]
    },
    {
     "name": "stderr",
     "output_type": "stream",
     "text": [
      "Epoch 20/30 [Train]: 100%|██████████| 2011/2011 [00:38<00:00, 51.94it/s, loss=0.243, lr=0.0005]\n",
      "Epoch 20/30 [Val]: 100%|██████████| 503/503 [00:04<00:00, 112.61it/s]\n"
     ]
    },
    {
     "name": "stdout",
     "output_type": "stream",
     "text": [
      "Epoch 20/30 - Train Loss: 0.2238 - Val Loss: 0.0403 - Train Acc: 0.7745 - Val Acc: 0.9944 - LR: 0.000500 - Time: 43.19s\n"
     ]
    },
    {
     "name": "stderr",
     "output_type": "stream",
     "text": [
      "Epoch 21/30 [Train]: 100%|██████████| 2011/2011 [00:38<00:00, 52.02it/s, loss=0.233, lr=0.0005]\n",
      "Epoch 21/30 [Val]: 100%|██████████| 503/503 [00:04<00:00, 111.21it/s]\n"
     ]
    },
    {
     "name": "stdout",
     "output_type": "stream",
     "text": [
      "Epoch 21/30 - Train Loss: 0.2231 - Val Loss: 0.0294 - Train Acc: 0.7753 - Val Acc: 0.9949 - LR: 0.000500 - Time: 43.19s\n"
     ]
    },
    {
     "name": "stderr",
     "output_type": "stream",
     "text": [
      "Epoch 22/30 [Train]: 100%|██████████| 2011/2011 [00:38<00:00, 52.00it/s, loss=0.27, lr=0.00025] \n",
      "Epoch 22/30 [Val]: 100%|██████████| 503/503 [00:04<00:00, 111.78it/s]\n"
     ]
    },
    {
     "name": "stdout",
     "output_type": "stream",
     "text": [
      "Epoch 22/30 - Train Loss: 0.2226 - Val Loss: 0.0329 - Train Acc: 0.7748 - Val Acc: 0.9948 - LR: 0.000250 - Time: 43.18s\n"
     ]
    },
    {
     "name": "stderr",
     "output_type": "stream",
     "text": [
      "Epoch 23/30 [Train]: 100%|██████████| 2011/2011 [00:38<00:00, 52.06it/s, loss=0.215, lr=0.00025]\n",
      "Epoch 23/30 [Val]: 100%|██████████| 503/503 [00:04<00:00, 112.74it/s]\n"
     ]
    },
    {
     "name": "stdout",
     "output_type": "stream",
     "text": [
      "Epoch 23/30 - Train Loss: 0.2228 - Val Loss: 0.0320 - Train Acc: 0.7745 - Val Acc: 0.9956 - LR: 0.000250 - Time: 43.10s\n"
     ]
    },
    {
     "name": "stderr",
     "output_type": "stream",
     "text": [
      "Epoch 24/30 [Train]: 100%|██████████| 2011/2011 [00:38<00:00, 51.94it/s, loss=0.227, lr=0.00025]\n",
      "Epoch 24/30 [Val]: 100%|██████████| 503/503 [00:04<00:00, 112.46it/s]\n"
     ]
    },
    {
     "name": "stdout",
     "output_type": "stream",
     "text": [
      "Epoch 24/30 - Train Loss: 0.2231 - Val Loss: 0.0373 - Train Acc: 0.7744 - Val Acc: 0.9960 - LR: 0.000250 - Time: 43.20s\n"
     ]
    },
    {
     "name": "stderr",
     "output_type": "stream",
     "text": [
      "Epoch 25/30 [Train]: 100%|██████████| 2011/2011 [00:38<00:00, 52.04it/s, loss=0.218, lr=0.00025]\n",
      "Epoch 25/30 [Val]: 100%|██████████| 503/503 [00:04<00:00, 112.88it/s]\n"
     ]
    },
    {
     "name": "stdout",
     "output_type": "stream",
     "text": [
      "Epoch 25/30 - Train Loss: 0.2236 - Val Loss: 0.0314 - Train Acc: 0.7737 - Val Acc: 0.9941 - LR: 0.000250 - Time: 43.11s\n"
     ]
    },
    {
     "name": "stderr",
     "output_type": "stream",
     "text": [
      "Epoch 26/30 [Train]: 100%|██████████| 2011/2011 [00:38<00:00, 52.05it/s, loss=0.215, lr=0.000125]\n",
      "Epoch 26/30 [Val]: 100%|██████████| 503/503 [00:04<00:00, 112.89it/s]\n"
     ]
    },
    {
     "name": "stdout",
     "output_type": "stream",
     "text": [
      "Epoch 26/30 - Train Loss: 0.2227 - Val Loss: 0.0295 - Train Acc: 0.7749 - Val Acc: 0.9941 - LR: 0.000125 - Time: 43.10s\n"
     ]
    },
    {
     "name": "stderr",
     "output_type": "stream",
     "text": [
      "Epoch 27/30 [Train]: 100%|██████████| 2011/2011 [00:38<00:00, 52.01it/s, loss=0.218, lr=0.000125]\n",
      "Epoch 27/30 [Val]: 100%|██████████| 503/503 [00:04<00:00, 112.68it/s]\n"
     ]
    },
    {
     "name": "stdout",
     "output_type": "stream",
     "text": [
      "Epoch 27/30 - Train Loss: 0.2222 - Val Loss: 0.0333 - Train Acc: 0.7754 - Val Acc: 0.9957 - LR: 0.000125 - Time: 43.14s\n",
      "Early stopping triggered!\n",
      "Fold 5 Results:\n",
      "Accuracy: 0.9942, Recall: 0.9928, Precision: 0.9994, F1-Score: 0.9961, auroc: 0.9997\n"
     ]
    },
    {
     "data": {
      "image/png": "[encoded data removed]",
      "text/plain": [
       "<Figure size 800x800 with 1 Axes>"
      ]
     },
     "metadata": {},
     "output_type": "display_data"
    }
   ],
   "source": [
    "import time\n",
    "import seaborn as sns\n",
    "import matplotlib.pyplot as plt\n",
    "\n",
    "# Configurações do KFold\n",
    "kf = KFold(n_splits=5, shuffle=True, random_state=42)\n",
    "\n",
    "fold_no = 0\n",
    "for train_idx, val_idx in kf.split(X, Y):\n",
    "    fold_no += 1\n",
    "    print(f\"=== Starting Fold {fold_no} ===\")\n",
    "    \n",
    "    # Criando o diretório para salvar os arquivos\n",
    "    save_path = os.path.join(log_path, f\"{fold_no}_fold\")\n",
    "    os.makedirs(save_path, exist_ok=True)\n",
    "\n",
    "    # Dados de treino e validação\n",
    "    x_train, x_val = X[train_idx], X[val_idx]\n",
    "    y_train, y_val = Y[train_idx], Y[val_idx]\n",
    "\n",
    "    # Convertendo para tensores do PyTorch\n",
    "    x_train, y_train = torch.tensor(x_train, dtype=torch.float32), torch.tensor(y_train, dtype=torch.float32)\n",
    "    x_val, y_val = torch.tensor(x_val, dtype=torch.float32), torch.tensor(y_val, dtype=torch.float32)\n",
    "\n",
    "    # Criando DataLoaders\n",
    "    batch_size = 256\n",
    "    train_dataset = TensorDataset(x_train.unsqueeze(1), y_train)\n",
    "    val_dataset = TensorDataset(x_val.unsqueeze(1), y_val)\n",
    "    train_loader = DataLoader(train_dataset, batch_size=batch_size, num_workers=4, shuffle=True)\n",
    "    val_loader = DataLoader(val_dataset, batch_size=batch_size, num_workers=4, shuffle=False)\n",
    "\n",
    "    # Inicializando o modelo, loss e otimizador\n",
    "    model = ConvNet().to(device)\n",
    "    model.apply(init_weights)\n",
    "    criterion = nn.BCEWithLogitsLoss()\n",
    "    optimizer = optim.Adam(model.parameters(), lr=0.001, weight_decay=0.01)  # weight_decay é L2 no PyTorch\n",
    "    scaler = torch.amp.GradScaler(device='cuda')  # Mixed Precision Training\n",
    "    scheduler = optim.lr_scheduler.ReduceLROnPlateau(optimizer, mode='min', factor=0.5, patience=3, min_lr=1e-5, verbose=True)\n",
    "    early_stopping = EarlyStopping(patience=10, min_delta=0.001)\n",
    "\n",
    "    # Treinando o modelo\n",
    "    num_epochs = 30\n",
    "    train_losses, val_losses = [], []\n",
    "    train_accuracies, val_accuracies = [], []\n",
    "\n",
    "    l2_lambda = 0.01  # Regularização L2 (equivalente ao TensorFlow)\n",
    "\n",
    "    for epoch in range(num_epochs):\n",
    "        start_time = time.time()\n",
    "        model.train()\n",
    "        running_loss = 0.0\n",
    "        correct_train = 0\n",
    "        total_train = 0\n",
    "\n",
    "        # Criando o arquivo de log\n",
    "        file_name = f'fold{fold_no}_log_{timestamp}.txt'\n",
    "        file1 = open(os.path.join(save_path, file_name), \"a\")\n",
    "\n",
    "        # Loop de treinamento com tqdm\n",
    "        train_loop = tqdm(train_loader, desc=f\"Epoch {epoch + 1}/{num_epochs} [Train]\")\n",
    "        for inputs, targets in train_loop:\n",
    "            inputs, targets = inputs.to(device), targets.to(device)\n",
    "            optimizer.zero_grad()\n",
    "            with torch.amp.autocast(device_type='cuda'):  # Mixed precision no forward pass\n",
    "                outputs = model(inputs)\n",
    "                loss = criterion(outputs.squeeze(), targets)\n",
    "\n",
    "            scaler.scale(loss).backward()  # Escala os gradientes\n",
    "            scaler.step(optimizer)  # Atualiza os parâmetros\n",
    "            scaler.update()  # Atualiza o escalador\n",
    "            running_loss += loss.item()\n",
    "\n",
    "            # Acurácia de treino\n",
    "            preds = (torch.sigmoid(outputs) > 0.5).float()\n",
    "            correct_train += (preds.squeeze() == targets).sum().item()\n",
    "            total_train += targets.size(0)\n",
    "\n",
    "            train_loop.set_postfix(loss=loss.item(), lr=optimizer.param_groups[0]['lr'])\n",
    "\n",
    "        train_loss = running_loss / len(train_loader)\n",
    "        train_losses.append(train_loss)\n",
    "        train_accuracy = correct_train / total_train\n",
    "        train_accuracies.append(train_accuracy)\n",
    "\n",
    "        # Validação\n",
    "        model.eval()\n",
    "        val_loss = 0.0\n",
    "        correct_val = 0\n",
    "        total_val = 0\n",
    "        y_preds, y_trues = [], []\n",
    "\n",
    "        val_loop = tqdm(val_loader, desc=f\"Epoch {epoch + 1}/{num_epochs} [Val]\")\n",
    "        with torch.no_grad():\n",
    "            for inputs, targets in val_loop:\n",
    "                inputs, targets = inputs.to(device), targets.to(device)\n",
    "                with torch.amp.autocast(device_type='cuda'):  # Mixed precision também na validação\n",
    "                    outputs = model(inputs)\n",
    "                    val_loss += criterion(outputs.squeeze(), targets).item()\n",
    "\n",
    "                preds = (torch.sigmoid(outputs) > 0.5).float()\n",
    "                correct_val += (preds.squeeze() == targets).sum().item()\n",
    "                total_val += targets.size(0)\n",
    "\n",
    "                y_preds.extend(outputs.cpu().numpy())\n",
    "                y_trues.extend(targets.cpu().numpy())\n",
    "\n",
    "        val_loss /= len(val_loader)\n",
    "        val_losses.append(val_loss)\n",
    "        val_accuracy = correct_val / total_val\n",
    "        val_accuracies.append(val_accuracy)\n",
    "\n",
    "        # Calcula o tempo total da época\n",
    "        epoch_time = time.time() - start_time\n",
    "\n",
    "        print(f\"Epoch {epoch + 1}/{num_epochs} - Train Loss: {train_loss:.4f} - Val Loss: {val_loss:.4f} - \"\n",
    "            f\"Train Acc: {train_accuracy:.4f} - Val Acc: {val_accuracy:.4f} - LR: {optimizer.param_groups[0]['lr']:.6f} - \"\n",
    "            f\"Time: {epoch_time:.2f}s\")\n",
    "\n",
    "        scheduler.step(val_loss)\n",
    "        early_stopping(val_loss)\n",
    "        if early_stopping.early_stop:\n",
    "            print(\"Early stopping triggered!\")\n",
    "            break\n",
    "\n",
    "    # Avaliação após cada fold\n",
    "    y_preds = np.concatenate(y_preds)\n",
    "    y_trues = np.array(y_trues)\n",
    "\n",
    "    # Converter para classes preditas\n",
    "    y_pred_class = (y_preds > 0.5).astype(int)\n",
    "\n",
    "    y_pred_scores2 = y_preds\n",
    "    y_pred_scores_0 = 1 - y_preds\n",
    "    y_pred_scores = np.column_stack((y_pred_scores_0, y_preds))\n",
    "    #y_pred_scores = np.concatenate([y_pred_scores_0, y_preds], axis=1)\n",
    "    \n",
    "    # Calcular as métricas\n",
    "    cm = confusion_matrix(y_trues, y_pred_class)\n",
    "\n",
    "    accuracy, recall, precision, f1, auroc, aupr = compute_performance_metrics(y_val, y_pred_class, y_pred_scores, save_path)\n",
    "    \n",
    "    print(f\"Fold {fold_no} Results:\")\n",
    "    print(f\"Accuracy: {accuracy:.4f}, Recall: {recall:.4f}, Precision: {precision:.4f}, F1-Score: {f1:.4f}, auroc: {auroc:.4f}\")\n",
    "\n",
    "    # Salvar os valores no diretório do fold\n",
    "    np.savez_compressed(\n",
    "        os.path.join(save_path, f\"fold_{fold_no}_y_val_y_pred_class_y_pred_scores.npz\"),\n",
    "        y_val=y_trues, y_pred_class=y_pred_class, y_pred_scores=y_pred_scores\n",
    "    )\n",
    "\n",
    "    print(f'Results for fold {fold_no}: Recall of {recall}; accuracy of {accuracy}; precision of {precision}; f1 of {f1}; auroc of {auroc}; aupr of {aupr}', file=file1)\n",
    "\n",
    "    # Plotar curvas de perda\n",
    "    plt.figure(figsize=(8, 4))\n",
    "    plt.plot(train_losses, label='Train Loss')\n",
    "    plt.plot(val_losses, label='Validation Loss')\n",
    "    plt.title('Loss per Epoch')\n",
    "    plt.xlabel('Epochs')\n",
    "    plt.ylabel('Loss')\n",
    "    plt.legend()\n",
    "    plt.savefig(os.path.join(save_path, \"loss_and_val_loss.png\"))\n",
    "    plt.close()\n",
    "\n",
    "    # Plotar acurácia\n",
    "    plt.figure(figsize=(8, 4))\n",
    "    plt.plot(train_accuracies, label='Train Accuracy')\n",
    "    plt.plot(val_accuracies, label='Validation Accuracy')\n",
    "    plt.title('Accuracy per Epoch')\n",
    "    plt.xlabel('Epochs')\n",
    "    plt.ylabel('Accuracy')\n",
    "    plt.legend()\n",
    "    plt.savefig(os.path.join(save_path, \"accuracy_and_val_accuracy.png\"))\n",
    "    plt.close()\n",
    "\n",
    "    # Plotar matriz de confusão\n",
    "    plt.figure(figsize=(8, 8))\n",
    "    sns.heatmap(cm, annot=True, fmt='d', cmap='Blues', xticklabels=[\"Class 0\", \"Class 1\"], yticklabels=[\"Class 0\", \"Class 1\"])\n",
    "    plt.title('Confusion Matrix')\n",
    "    plt.xlabel('Predicted')\n",
    "    plt.ylabel('True')\n",
    "    plt.savefig(os.path.join(save_path, \"confusion_matrix.png\"))\n",
    "    plt.close()\n",
    "\n",
    "    fpr_keras, tpr_keras, thresholds_keras = roc_curve(y_val, y_pred_scores2)\n",
    "    auc_keras = auc(fpr_keras, tpr_keras)\n",
    "\n",
    "    # Plotar curva ROC\n",
    "    sns.set(rc={'figure.figsize':(8,8)})\n",
    "    plt.plot([0,1],[0,1],linestyle = '--',lw = 2,color = 'black')\n",
    "    plt.plot(fpr_keras, tpr_keras, marker='.', label='MLP (auc = %0.3f)' % auc_keras)\n",
    "    plt.xlabel('False Positive Rate')\n",
    "    plt.ylabel('True Positive Rate')\n",
    "    plt.title('ROC')\n",
    "    plt.legend(loc=\"lower right\")\n",
    "    plt.savefig(save_path + \"/plot_roc.png\")\n",
    "    plt.show()\n",
    "\n",
    "    # Salvar o modelo\n",
    "    torch.save(model.state_dict(), os.path.join(save_path, f\"fold_{fold_no}_model.pth\"))\n",
    "\n",
    "    # Liberação de memória\n",
    "    del model, x_train, x_val, y_train, y_val, train_loader, val_loader\n",
    "    gc.collect()\n",
    "    torch.cuda.empty_cache()"
   ]
  },
  {
   "cell_type": "code",
   "execution_count": 10,
   "metadata": {},
   "outputs": [
    {
     "data": {
      "text/plain": [
       "array([[ 3.656, -2.656],\n",
       "       [ 4.297, -3.299],\n",
       "       [ 1.691, -0.692],\n",
       "       ...,\n",
       "       [-5.12 ,  6.12 ],\n",
       "       [-4.656,  5.656],\n",
       "       [-4.152,  5.152]], dtype=float16)"
      ]
     },
     "execution_count": 10,
     "metadata": {},
     "output_type": "execute_result"
    }
   ],
   "source": [
    "y_pred_scores = np.column_stack((y_pred_scores_0, y_preds))\n",
    "y_pred_scores"
   ]
  }
 ],
 "metadata": {
  "kernelspec": {
   "display_name": "pytorch_env",
   "language": "python",
   "name": "python3"
  },
  "language_info": {
   "codemirror_mode": {
    "name": "ipython",
    "version": 3
   },
   "file_extension": ".py",
   "mimetype": "text/x-python",
   "name": "python",
   "nbconvert_exporter": "python",
   "pygments_lexer": "ipython3",
   "version": "3.9.20"
  }
 },
 "nbformat": 4,
 "nbformat_minor": 2
}
